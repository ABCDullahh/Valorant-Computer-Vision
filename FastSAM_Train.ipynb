{
 "cells": [
  {
   "cell_type": "markdown",
   "metadata": {},
   "source": [
    "# Library"
   ]
  },
  {
   "cell_type": "code",
   "execution_count": null,
   "metadata": {
    "trusted": true
   },
   "outputs": [],
   "source": [
    "from PIL import Image\n",
    "import joblib\n",
    "import matplotlib.pyplot as plt\n",
    "from ultralytics import FastSAM\n",
    "from ultralytics import YOLO\n",
    "from ultralytics.models.fastsam import FastSAMPrompt\n",
    "from kaggle_secrets import UserSecretsClient\n",
    "import wandb"
   ]
  },
  {
   "cell_type": "markdown",
   "metadata": {},
   "source": [
    "## Hyperparameter train FastSAM"
   ]
  },
  {
   "cell_type": "markdown",
   "metadata": {},
   "source": [
    "### Pelatihan Model dengan YOLO untuk Deteksi Agen\n",
    "\n",
    "Kode ini melakukan pelatihan model deteksi objek menggunakan **YOLO** (You Only Look Once) dengan menggunakan model **FastSAM-s.pt** yang sudah dilatih sebelumnya. Model ini ditujukan untuk mendeteksi objek agen dalam gambar dan menggunakan dataset anotasi yang disediakan.\n",
    "\n",
    "### Penjelasan Setiap Parameter:\n",
    "- **model**: Model yang digunakan adalah `FastSAM-s.pt`, yang merupakan model YOLO yang sudah dilatih sebelumnya.\n",
    "- **data**: Lokasi file YAML yang berisi informasi tentang dataset, yang digunakan untuk pelatihan. Pada contoh ini, dataset berada di direktori `/data.yaml`.\n",
    "- **epochs**: Jumlah epoch yang akan dilatih adalah 100. Ini menunjukkan seberapa banyak model akan melalui seluruh dataset selama pelatihan.\n",
    "- **batch**: Ukuran batch yang digunakan dalam pelatihan adalah 16. Ini berarti setiap langkah pelatihan akan memproses 16 gambar sekaligus.\n",
    "- **imgsz**: Ukuran gambar input yang digunakan dalam pelatihan adalah 640 piksel (baik lebar maupun tinggi).\n",
    "- **overlap_mask**: Menonaktifkan penggunaan overlap mask pada segmentasi (nilai `False`).\n",
    "- **save**: Model akan disimpan setelah pelatihan selesai.\n",
    "- **save_period**: Model akan disimpan setiap 5 epoch.\n",
    "- **device**: Pelatihan akan dilakukan pada perangkat GPU yang terdeteksi sebagai perangkat '0'.\n",
    "- **project**: Nama proyek pelatihan adalah 'fastsam'.\n",
    "- **name**: Nama untuk eksperimen pelatihan adalah 'test'.\n",
    "- **val**: Validasi pada dataset tidak diaktifkan (nilai `False`).\n",
    "\n",
    "### Proses Pelatihan:\n",
    "- **Pelatihan Model**: Model dilatih dengan dataset yang disediakan, mengoptimalkan parameter model untuk mencapai akurasi terbaik dalam mendeteksi agen.\n",
    "- **Penyimpanan Model**: Model yang dilatih akan disimpan di folder proyek setiap 5 epoch agar dapat digunakan untuk evaluasi lebih lanjut atau inferensi.\n",
    "\n",
    "### Tujuan Pelatihan:\n",
    "Tujuan dari pelatihan ini adalah untuk meningkatkan kemampuan model dalam mendeteksi agen secara efektif dalam dataset yang diberikan dengan memanfaatkan arsitektur YOLO yang sudah dilatih sebelumnya.\n"
   ]
  },
  {
   "cell_type": "code",
   "execution_count": null,
   "metadata": {
    "trusted": true
   },
   "outputs": [],
   "source": [
    "from ultralytics import YOLO\n",
    "import joblib\n",
    "\n",
    "model = YOLO(model=\"FastSAM-s.pt\", \\\n",
    "             )\n",
    "model.train(data=\"/data.yaml\", \\\n",
    "            epochs=100, \\\n",
    "            batch=16, \\\n",
    "            imgsz=640, \\\n",
    "            overlap_mask=False, \\\n",
    "            save=True, \\\n",
    "            save_period=5, \\\n",
    "            device='0',\\\n",
    "            project='fastsam', \\\n",
    "            name='test', \n",
    "            val=False,)"
   ]
  }
 ],
 "metadata": {
  "kaggle": {
   "accelerator": "gpu",
   "dataSources": [
    {
     "datasetId": 5073914,
     "sourceId": 8501754,
     "sourceType": "datasetVersion"
    },
    {
     "datasetId": 5094792,
     "sourceId": 8530655,
     "sourceType": "datasetVersion"
    },
    {
     "datasetId": 5096481,
     "sourceId": 8532923,
     "sourceType": "datasetVersion"
    },
    {
     "datasetId": 5096587,
     "sourceId": 8533073,
     "sourceType": "datasetVersion"
    },
    {
     "datasetId": 5158139,
     "sourceId": 8617827,
     "sourceType": "datasetVersion"
    },
    {
     "datasetId": 5165106,
     "sourceId": 8627166,
     "sourceType": "datasetVersion"
    },
    {
     "datasetId": 5169066,
     "sourceId": 8632586,
     "sourceType": "datasetVersion"
    },
    {
     "datasetId": 5169432,
     "sourceId": 8633110,
     "sourceType": "datasetVersion"
    },
    {
     "modelInstanceId": 51769,
     "sourceId": 61974,
     "sourceType": "modelInstanceVersion"
    },
    {
     "modelInstanceId": 51826,
     "sourceId": 62039,
     "sourceType": "modelInstanceVersion"
    },
    {
     "modelInstanceId": 52107,
     "sourceId": 62395,
     "sourceType": "modelInstanceVersion"
    },
    {
     "modelInstanceId": 52160,
     "sourceId": 62456,
     "sourceType": "modelInstanceVersion"
    },
    {
     "isSourceIdPinned": true,
     "modelInstanceId": 52406,
     "sourceId": 62803,
     "sourceType": "modelInstanceVersion"
    }
   ],
   "dockerImageVersionId": 30698,
   "isGpuEnabled": true,
   "isInternetEnabled": true,
   "language": "python",
   "sourceType": "notebook"
  },
  "kernelspec": {
   "display_name": "Python 3",
   "language": "python",
   "name": "python3"
  },
  "language_info": {
   "codemirror_mode": {
    "name": "ipython",
    "version": 3
   },
   "file_extension": ".py",
   "mimetype": "text/x-python",
   "name": "python",
   "nbconvert_exporter": "python",
   "pygments_lexer": "ipython3",
   "version": "3.10.13"
  }
 },
 "nbformat": 4,
 "nbformat_minor": 4
}
